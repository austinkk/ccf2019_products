{
 "cells": [
  {
   "cell_type": "code",
   "execution_count": 1,
   "metadata": {},
   "outputs": [],
   "source": [
    "from sklearn.preprocessing import OneHotEncoder"
   ]
  },
  {
   "cell_type": "code",
   "execution_count": 2,
   "metadata": {},
   "outputs": [],
   "source": [
    "from sklearn.neighbors import KDTree\n",
    "import numpy as np\n",
    "import pandas as pd\n",
    "from FE import *"
   ]
  },
  {
   "cell_type": "code",
   "execution_count": 3,
   "metadata": {},
   "outputs": [],
   "source": [
    "dict_label2id = {\n",
    "    'Excellent':0, 'Good':1, 'Pass':2, 'Fail':3\n",
    "}"
   ]
  },
  {
   "cell_type": "code",
   "execution_count": 4,
   "metadata": {},
   "outputs": [],
   "source": [
    "tr_data = pd.read_csv('./rawdata/first_round_training_data.csv', encoding='utf-8')"
   ]
  },
  {
   "cell_type": "code",
   "execution_count": 5,
   "metadata": {},
   "outputs": [],
   "source": [
    "te_data = pd.read_csv('./rawdata/first_round_testing_data.csv', encoding='utf-8')"
   ]
  },
  {
   "cell_type": "code",
   "execution_count": 6,
   "metadata": {},
   "outputs": [
    {
     "name": "stdout",
     "output_type": "stream",
     "text": [
      "<class 'pandas.core.frame.DataFrame'>\n",
      "RangeIndex: 6000 entries, 0 to 5999\n",
      "Data columns (total 21 columns):\n",
      "Parameter1       6000 non-null float64\n",
      "Parameter2       6000 non-null float64\n",
      "Parameter3       6000 non-null float64\n",
      "Parameter4       6000 non-null float64\n",
      "Parameter5       6000 non-null float64\n",
      "Parameter6       6000 non-null float64\n",
      "Parameter7       6000 non-null float64\n",
      "Parameter8       6000 non-null float64\n",
      "Parameter9       6000 non-null float64\n",
      "Parameter10      6000 non-null float64\n",
      "Attribute1       6000 non-null float64\n",
      "Attribute2       6000 non-null float64\n",
      "Attribute3       6000 non-null float64\n",
      "Attribute4       6000 non-null float64\n",
      "Attribute5       6000 non-null float64\n",
      "Attribute6       6000 non-null float64\n",
      "Attribute7       6000 non-null float64\n",
      "Attribute8       6000 non-null float64\n",
      "Attribute9       6000 non-null float64\n",
      "Attribute10      6000 non-null float64\n",
      "Quality_label    6000 non-null object\n",
      "dtypes: float64(20), object(1)\n",
      "memory usage: 984.5+ KB\n"
     ]
    }
   ],
   "source": [
    "tr_data.info()"
   ]
  },
  {
   "cell_type": "code",
   "execution_count": 7,
   "metadata": {},
   "outputs": [
    {
     "data": {
      "text/html": [
       "<div>\n",
       "<style scoped>\n",
       "    .dataframe tbody tr th:only-of-type {\n",
       "        vertical-align: middle;\n",
       "    }\n",
       "\n",
       "    .dataframe tbody tr th {\n",
       "        vertical-align: top;\n",
       "    }\n",
       "\n",
       "    .dataframe thead th {\n",
       "        text-align: right;\n",
       "    }\n",
       "</style>\n",
       "<table border=\"1\" class=\"dataframe\">\n",
       "  <thead>\n",
       "    <tr style=\"text-align: right;\">\n",
       "      <th></th>\n",
       "      <th>Parameter1</th>\n",
       "      <th>Parameter2</th>\n",
       "      <th>Parameter3</th>\n",
       "      <th>Parameter4</th>\n",
       "      <th>Parameter5</th>\n",
       "      <th>Parameter6</th>\n",
       "      <th>Parameter7</th>\n",
       "      <th>Parameter8</th>\n",
       "      <th>Parameter9</th>\n",
       "      <th>Parameter10</th>\n",
       "      <th>Attribute1</th>\n",
       "      <th>Attribute2</th>\n",
       "      <th>Attribute3</th>\n",
       "      <th>Attribute4</th>\n",
       "      <th>Attribute5</th>\n",
       "      <th>Attribute6</th>\n",
       "      <th>Attribute7</th>\n",
       "      <th>Attribute8</th>\n",
       "      <th>Attribute9</th>\n",
       "      <th>Attribute10</th>\n",
       "    </tr>\n",
       "  </thead>\n",
       "  <tbody>\n",
       "    <tr>\n",
       "      <th>count</th>\n",
       "      <td>6000.000000</td>\n",
       "      <td>6.000000e+03</td>\n",
       "      <td>6000.000000</td>\n",
       "      <td>6000.000000</td>\n",
       "      <td>6.000000e+03</td>\n",
       "      <td>6.000000e+03</td>\n",
       "      <td>6000.000000</td>\n",
       "      <td>6000.000000</td>\n",
       "      <td>6.000000e+03</td>\n",
       "      <td>6000.000000</td>\n",
       "      <td>6.000000e+03</td>\n",
       "      <td>6.000000e+03</td>\n",
       "      <td>6000.000000</td>\n",
       "      <td>6.000000e+03</td>\n",
       "      <td>6.000000e+03</td>\n",
       "      <td>6.000000e+03</td>\n",
       "      <td>6.000000e+03</td>\n",
       "      <td>6.000000e+03</td>\n",
       "      <td>6.000000e+03</td>\n",
       "      <td>6.000000e+03</td>\n",
       "    </tr>\n",
       "    <tr>\n",
       "      <th>mean</th>\n",
       "      <td>485.198954</td>\n",
       "      <td>1.952379e+03</td>\n",
       "      <td>406.348529</td>\n",
       "      <td>189.205842</td>\n",
       "      <td>5.868163e+00</td>\n",
       "      <td>5.598597e+00</td>\n",
       "      <td>272.300821</td>\n",
       "      <td>22.133231</td>\n",
       "      <td>5.823664e+04</td>\n",
       "      <td>35.902066</td>\n",
       "      <td>5.351032e+04</td>\n",
       "      <td>8.842895e+04</td>\n",
       "      <td>202.732522</td>\n",
       "      <td>6.271156e+03</td>\n",
       "      <td>1.285985e+06</td>\n",
       "      <td>3.400877e+03</td>\n",
       "      <td>3.166863e+04</td>\n",
       "      <td>4.545394e+05</td>\n",
       "      <td>7.860735e+05</td>\n",
       "      <td>1.989520e+07</td>\n",
       "    </tr>\n",
       "    <tr>\n",
       "      <th>std</th>\n",
       "      <td>11401.971393</td>\n",
       "      <td>5.419588e+04</td>\n",
       "      <td>12018.898941</td>\n",
       "      <td>2621.779049</td>\n",
       "      <td>8.631865e+00</td>\n",
       "      <td>7.686898e+00</td>\n",
       "      <td>2027.460514</td>\n",
       "      <td>302.172768</td>\n",
       "      <td>3.173068e+06</td>\n",
       "      <td>101.629348</td>\n",
       "      <td>1.894866e+06</td>\n",
       "      <td>2.854543e+06</td>\n",
       "      <td>2754.503943</td>\n",
       "      <td>2.585508e+05</td>\n",
       "      <td>9.850723e+07</td>\n",
       "      <td>1.999508e+05</td>\n",
       "      <td>1.116889e+06</td>\n",
       "      <td>2.847995e+07</td>\n",
       "      <td>5.885757e+07</td>\n",
       "      <td>1.529785e+09</td>\n",
       "    </tr>\n",
       "    <tr>\n",
       "      <th>min</th>\n",
       "      <td>0.000003</td>\n",
       "      <td>1.683797e-07</td>\n",
       "      <td>0.000005</td>\n",
       "      <td>0.000002</td>\n",
       "      <td>9.985942e-07</td>\n",
       "      <td>9.810610e-07</td>\n",
       "      <td>0.000624</td>\n",
       "      <td>0.023699</td>\n",
       "      <td>3.962831e-04</td>\n",
       "      <td>0.001024</td>\n",
       "      <td>6.457597e-10</td>\n",
       "      <td>5.493777e-09</td>\n",
       "      <td>0.000001</td>\n",
       "      <td>4.344229e-06</td>\n",
       "      <td>1.635864e-06</td>\n",
       "      <td>5.456653e-05</td>\n",
       "      <td>4.411611e-03</td>\n",
       "      <td>3.011145e-03</td>\n",
       "      <td>2.366726e-03</td>\n",
       "      <td>1.974795e-03</td>\n",
       "    </tr>\n",
       "    <tr>\n",
       "      <th>25%</th>\n",
       "      <td>0.088221</td>\n",
       "      <td>4.765771e-02</td>\n",
       "      <td>0.102304</td>\n",
       "      <td>0.118314</td>\n",
       "      <td>7.416296e-01</td>\n",
       "      <td>3.818154e-01</td>\n",
       "      <td>0.152059</td>\n",
       "      <td>0.035407</td>\n",
       "      <td>5.930812e-01</td>\n",
       "      <td>0.101478</td>\n",
       "      <td>3.100601e-02</td>\n",
       "      <td>3.173294e-02</td>\n",
       "      <td>0.098178</td>\n",
       "      <td>1.319373e-01</td>\n",
       "      <td>1.150362e-01</td>\n",
       "      <td>1.443224e-01</td>\n",
       "      <td>1.135895e-01</td>\n",
       "      <td>1.115708e-01</td>\n",
       "      <td>1.267717e-01</td>\n",
       "      <td>1.253268e-01</td>\n",
       "    </tr>\n",
       "    <tr>\n",
       "      <th>50%</th>\n",
       "      <td>1.050304</td>\n",
       "      <td>9.405962e-01</td>\n",
       "      <td>1.044908</td>\n",
       "      <td>1.068467</td>\n",
       "      <td>2.225808e+00</td>\n",
       "      <td>2.684398e+00</td>\n",
       "      <td>0.600827</td>\n",
       "      <td>2.931083</td>\n",
       "      <td>5.930812e-01</td>\n",
       "      <td>0.727611</td>\n",
       "      <td>9.449563e-01</td>\n",
       "      <td>1.030499e+00</td>\n",
       "      <td>0.945947</td>\n",
       "      <td>8.297855e-01</td>\n",
       "      <td>7.539155e-01</td>\n",
       "      <td>9.864325e-01</td>\n",
       "      <td>5.891701e-01</td>\n",
       "      <td>5.922906e-01</td>\n",
       "      <td>6.644951e-01</td>\n",
       "      <td>6.705953e-01</td>\n",
       "    </tr>\n",
       "    <tr>\n",
       "      <th>75%</th>\n",
       "      <td>10.938565</td>\n",
       "      <td>1.569199e+01</td>\n",
       "      <td>10.665397</td>\n",
       "      <td>9.902064</td>\n",
       "      <td>6.680183e+00</td>\n",
       "      <td>7.117767e+00</td>\n",
       "      <td>2.374035</td>\n",
       "      <td>17.850021</td>\n",
       "      <td>6.783967e+00</td>\n",
       "      <td>13.969790</td>\n",
       "      <td>2.784766e+01</td>\n",
       "      <td>3.001000e+01</td>\n",
       "      <td>9.803828</td>\n",
       "      <td>6.052952e+00</td>\n",
       "      <td>5.736029e+00</td>\n",
       "      <td>7.422284e+00</td>\n",
       "      <td>4.637157e+00</td>\n",
       "      <td>4.773050e+00</td>\n",
       "      <td>5.571728e+00</td>\n",
       "      <td>4.905501e+00</td>\n",
       "    </tr>\n",
       "    <tr>\n",
       "      <th>max</th>\n",
       "      <td>713682.207601</td>\n",
       "      <td>3.034568e+06</td>\n",
       "      <td>864530.632179</td>\n",
       "      <td>139767.494732</td>\n",
       "      <td>8.367195e+01</td>\n",
       "      <td>4.117541e+01</td>\n",
       "      <td>35698.591553</td>\n",
       "      <td>20086.397753</td>\n",
       "      <td>1.738083e+08</td>\n",
       "      <td>517.197610</td>\n",
       "      <td>1.197060e+08</td>\n",
       "      <td>1.615907e+08</td>\n",
       "      <td>128491.084741</td>\n",
       "      <td>1.572225e+07</td>\n",
       "      <td>7.630284e+09</td>\n",
       "      <td>1.488592e+07</td>\n",
       "      <td>7.789923e+07</td>\n",
       "      <td>2.187522e+09</td>\n",
       "      <td>4.558485e+09</td>\n",
       "      <td>1.184961e+11</td>\n",
       "    </tr>\n",
       "  </tbody>\n",
       "</table>\n",
       "</div>"
      ],
      "text/plain": [
       "          Parameter1    Parameter2     Parameter3     Parameter4  \\\n",
       "count    6000.000000  6.000000e+03    6000.000000    6000.000000   \n",
       "mean      485.198954  1.952379e+03     406.348529     189.205842   \n",
       "std     11401.971393  5.419588e+04   12018.898941    2621.779049   \n",
       "min         0.000003  1.683797e-07       0.000005       0.000002   \n",
       "25%         0.088221  4.765771e-02       0.102304       0.118314   \n",
       "50%         1.050304  9.405962e-01       1.044908       1.068467   \n",
       "75%        10.938565  1.569199e+01      10.665397       9.902064   \n",
       "max    713682.207601  3.034568e+06  864530.632179  139767.494732   \n",
       "\n",
       "         Parameter5    Parameter6    Parameter7    Parameter8    Parameter9  \\\n",
       "count  6.000000e+03  6.000000e+03   6000.000000   6000.000000  6.000000e+03   \n",
       "mean   5.868163e+00  5.598597e+00    272.300821     22.133231  5.823664e+04   \n",
       "std    8.631865e+00  7.686898e+00   2027.460514    302.172768  3.173068e+06   \n",
       "min    9.985942e-07  9.810610e-07      0.000624      0.023699  3.962831e-04   \n",
       "25%    7.416296e-01  3.818154e-01      0.152059      0.035407  5.930812e-01   \n",
       "50%    2.225808e+00  2.684398e+00      0.600827      2.931083  5.930812e-01   \n",
       "75%    6.680183e+00  7.117767e+00      2.374035     17.850021  6.783967e+00   \n",
       "max    8.367195e+01  4.117541e+01  35698.591553  20086.397753  1.738083e+08   \n",
       "\n",
       "       Parameter10    Attribute1    Attribute2     Attribute3    Attribute4  \\\n",
       "count  6000.000000  6.000000e+03  6.000000e+03    6000.000000  6.000000e+03   \n",
       "mean     35.902066  5.351032e+04  8.842895e+04     202.732522  6.271156e+03   \n",
       "std     101.629348  1.894866e+06  2.854543e+06    2754.503943  2.585508e+05   \n",
       "min       0.001024  6.457597e-10  5.493777e-09       0.000001  4.344229e-06   \n",
       "25%       0.101478  3.100601e-02  3.173294e-02       0.098178  1.319373e-01   \n",
       "50%       0.727611  9.449563e-01  1.030499e+00       0.945947  8.297855e-01   \n",
       "75%      13.969790  2.784766e+01  3.001000e+01       9.803828  6.052952e+00   \n",
       "max     517.197610  1.197060e+08  1.615907e+08  128491.084741  1.572225e+07   \n",
       "\n",
       "         Attribute5    Attribute6    Attribute7    Attribute8    Attribute9  \\\n",
       "count  6.000000e+03  6.000000e+03  6.000000e+03  6.000000e+03  6.000000e+03   \n",
       "mean   1.285985e+06  3.400877e+03  3.166863e+04  4.545394e+05  7.860735e+05   \n",
       "std    9.850723e+07  1.999508e+05  1.116889e+06  2.847995e+07  5.885757e+07   \n",
       "min    1.635864e-06  5.456653e-05  4.411611e-03  3.011145e-03  2.366726e-03   \n",
       "25%    1.150362e-01  1.443224e-01  1.135895e-01  1.115708e-01  1.267717e-01   \n",
       "50%    7.539155e-01  9.864325e-01  5.891701e-01  5.922906e-01  6.644951e-01   \n",
       "75%    5.736029e+00  7.422284e+00  4.637157e+00  4.773050e+00  5.571728e+00   \n",
       "max    7.630284e+09  1.488592e+07  7.789923e+07  2.187522e+09  4.558485e+09   \n",
       "\n",
       "        Attribute10  \n",
       "count  6.000000e+03  \n",
       "mean   1.989520e+07  \n",
       "std    1.529785e+09  \n",
       "min    1.974795e-03  \n",
       "25%    1.253268e-01  \n",
       "50%    6.705953e-01  \n",
       "75%    4.905501e+00  \n",
       "max    1.184961e+11  "
      ]
     },
     "execution_count": 7,
     "metadata": {},
     "output_type": "execute_result"
    }
   ],
   "source": [
    "tr_data.describe()"
   ]
  },
  {
   "cell_type": "code",
   "execution_count": 8,
   "metadata": {},
   "outputs": [],
   "source": [
    "tr_value = tr_data[['Parameter'+str(i) for i in range(1,11)]].values\n",
    "te_value = te_data[['Parameter'+str(i) for i in range(1,11)]].values"
   ]
  },
  {
   "cell_type": "code",
   "execution_count": 9,
   "metadata": {},
   "outputs": [],
   "source": [
    "for i in range(10):\n",
    "    tr_value[:, i] = log_trans(tr_value[:, i], 2)\n",
    "    te_value[:, i] = log_trans(te_value[:, i], 2) "
   ]
  },
  {
   "cell_type": "code",
   "execution_count": null,
   "metadata": {},
   "outputs": [],
   "source": []
  },
  {
   "cell_type": "code",
   "execution_count": 10,
   "metadata": {},
   "outputs": [],
   "source": [
    "tr_label = tr_data['Quality_label'].values"
   ]
  },
  {
   "cell_type": "code",
   "execution_count": 11,
   "metadata": {},
   "outputs": [],
   "source": [
    "tree = KDTree(tr_value)"
   ]
  },
  {
   "cell_type": "code",
   "execution_count": 12,
   "metadata": {},
   "outputs": [],
   "source": [
    "dist, ind = tree.query(te_value, k = 10) "
   ]
  },
  {
   "cell_type": "code",
   "execution_count": 13,
   "metadata": {},
   "outputs": [],
   "source": [
    "def get_label(idx):\n",
    "    l = np.zeros(4)\n",
    "    for i in idx:\n",
    "        l[dict_label2id[tr_label[i]]] += 1\n",
    "    #l = l / sum(l)\n",
    "    return l"
   ]
  },
  {
   "cell_type": "code",
   "execution_count": 14,
   "metadata": {},
   "outputs": [],
   "source": [
    "submit_result = []\n",
    "for i in ind:\n",
    "    submit_result.append(get_label(i))"
   ]
  },
  {
   "cell_type": "code",
   "execution_count": 15,
   "metadata": {},
   "outputs": [],
   "source": [
    "submit_pd = pd.read_csv('./rawdata/submit_example.csv', encoding='utf-8', index_col=None)"
   ]
  },
  {
   "cell_type": "code",
   "execution_count": 16,
   "metadata": {},
   "outputs": [
    {
     "data": {
      "text/plain": [
       "6000"
      ]
     },
     "execution_count": 16,
     "metadata": {},
     "output_type": "execute_result"
    }
   ],
   "source": [
    "len(submit_result)"
   ]
  },
  {
   "cell_type": "code",
   "execution_count": 17,
   "metadata": {},
   "outputs": [],
   "source": [
    "group_value = te_data['Group'].values"
   ]
  },
  {
   "cell_type": "code",
   "execution_count": 18,
   "metadata": {},
   "outputs": [],
   "source": [
    "submit_result = np.array(submit_result)"
   ]
  },
  {
   "cell_type": "code",
   "execution_count": 19,
   "metadata": {},
   "outputs": [
    {
     "data": {
      "text/plain": [
       "array([130., 163., 129.,  78.])"
      ]
     },
     "execution_count": 19,
     "metadata": {},
     "output_type": "execute_result"
    }
   ],
   "source": [
    "np.sum(submit_result[group_value == 0], axis=0)"
   ]
  },
  {
   "cell_type": "code",
   "execution_count": 20,
   "metadata": {},
   "outputs": [],
   "source": [
    "final_result = []\n",
    "for i in range(120):\n",
    "    final_result.append(np.sum(submit_result[group_value == i], axis=0))"
   ]
  },
  {
   "cell_type": "code",
   "execution_count": 21,
   "metadata": {},
   "outputs": [],
   "source": [
    "final_result = [i / sum(i) for i in final_result]"
   ]
  },
  {
   "cell_type": "code",
   "execution_count": 22,
   "metadata": {},
   "outputs": [],
   "source": [
    "final_result = np.array(final_result)"
   ]
  },
  {
   "cell_type": "code",
   "execution_count": null,
   "metadata": {},
   "outputs": [],
   "source": []
  },
  {
   "cell_type": "code",
   "execution_count": 23,
   "metadata": {},
   "outputs": [],
   "source": [
    "submit_pd[['Excellent ratio', 'Good ratio', 'Pass ratio', 'Fail ratio']] = final_result"
   ]
  },
  {
   "cell_type": "code",
   "execution_count": 24,
   "metadata": {},
   "outputs": [],
   "source": [
    "submit_pd.to_csv('knn_log2_10.csv', index=None)"
   ]
  },
  {
   "cell_type": "code",
   "execution_count": null,
   "metadata": {},
   "outputs": [],
   "source": []
  },
  {
   "cell_type": "code",
   "execution_count": null,
   "metadata": {},
   "outputs": [],
   "source": []
  }
 ],
 "metadata": {
  "kernelspec": {
   "display_name": "Python 3",
   "language": "python",
   "name": "python3"
  },
  "language_info": {
   "codemirror_mode": {
    "name": "ipython",
    "version": 3
   },
   "file_extension": ".py",
   "mimetype": "text/x-python",
   "name": "python",
   "nbconvert_exporter": "python",
   "pygments_lexer": "ipython3",
   "version": "3.6.5"
  }
 },
 "nbformat": 4,
 "nbformat_minor": 2
}
