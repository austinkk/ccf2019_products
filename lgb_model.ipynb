{
 "cells": [
  {
   "cell_type": "code",
   "execution_count": 1,
   "metadata": {},
   "outputs": [],
   "source": [
    "import numpy as np\n",
    "import pandas as pd\n",
    "import sys"
   ]
  },
  {
   "cell_type": "code",
   "execution_count": 2,
   "metadata": {},
   "outputs": [],
   "source": [
    "from FE import *"
   ]
  },
  {
   "cell_type": "code",
   "execution_count": 3,
   "metadata": {},
   "outputs": [],
   "source": [
    "sys.path.append('./tools/')"
   ]
  },
  {
   "cell_type": "code",
   "execution_count": 4,
   "metadata": {},
   "outputs": [],
   "source": [
    "from mylgb_multiclass import Mylgb\n",
    "from mylgb_reg import Mylgb_regression"
   ]
  },
  {
   "cell_type": "markdown",
   "metadata": {},
   "source": [
    "# evaluation indicator "
   ]
  },
  {
   "cell_type": "code",
   "execution_count": 5,
   "metadata": {},
   "outputs": [],
   "source": [
    "def MAE(pred_y, true_y):\n",
    "    return np.sum(np.abs(pred_y - true_y)) / pred_y.shape[0] / pred_y.shape[1]"
   ]
  },
  {
   "cell_type": "code",
   "execution_count": 6,
   "metadata": {},
   "outputs": [],
   "source": [
    "def get_score(mae):\n",
    "    return 1.0 / (1.0 + 10 * mae)"
   ]
  },
  {
   "cell_type": "code",
   "execution_count": 7,
   "metadata": {},
   "outputs": [],
   "source": [
    "def get_mae(score):\n",
    "    return  (1.0 / score - 1.0) / 10.0"
   ]
  },
  {
   "cell_type": "code",
   "execution_count": 8,
   "metadata": {},
   "outputs": [],
   "source": [
    "def get_partition(x):\n",
    "    result = np.zeros(4)\n",
    "    for i in x:\n",
    "        result[i] += 1\n",
    "    return result / sum(result)"
   ]
  },
  {
   "cell_type": "markdown",
   "metadata": {},
   "source": [
    "# EDA"
   ]
  },
  {
   "cell_type": "code",
   "execution_count": null,
   "metadata": {},
   "outputs": [],
   "source": []
  },
  {
   "cell_type": "code",
   "execution_count": 16,
   "metadata": {},
   "outputs": [],
   "source": [
    "for i in range(1, 11):\n",
    "    tr_data['Attribute' + str(i)] = np.array(log_trans(tr_data['Attribute' + str(i)].values, 10) * 10, dtype=int)"
   ]
  },
  {
   "cell_type": "code",
   "execution_count": null,
   "metadata": {},
   "outputs": [],
   "source": []
  },
  {
   "cell_type": "code",
   "execution_count": null,
   "metadata": {},
   "outputs": [],
   "source": []
  },
  {
   "cell_type": "code",
   "execution_count": null,
   "metadata": {},
   "outputs": [],
   "source": []
  },
  {
   "cell_type": "markdown",
   "metadata": {},
   "source": [
    "# preprocess"
   ]
  },
  {
   "cell_type": "code",
   "execution_count": 9,
   "metadata": {},
   "outputs": [],
   "source": [
    "dict_label2id = {\n",
    "    'Excellent':0, 'Good':1, 'Pass':2, 'Fail':3\n",
    "}"
   ]
  },
  {
   "cell_type": "code",
   "execution_count": 10,
   "metadata": {},
   "outputs": [],
   "source": [
    "# read data"
   ]
  },
  {
   "cell_type": "code",
   "execution_count": 11,
   "metadata": {},
   "outputs": [],
   "source": [
    "tr_data = pd.read_csv('./rawdata/first_round_training_data.csv', encoding='utf-8')"
   ]
  },
  {
   "cell_type": "code",
   "execution_count": 12,
   "metadata": {},
   "outputs": [],
   "source": [
    "te_data = pd.read_csv('./rawdata/first_round_testing_data.csv', encoding='utf-8')"
   ]
  },
  {
   "cell_type": "code",
   "execution_count": 13,
   "metadata": {},
   "outputs": [],
   "source": [
    "tr_data['Quality_label'] = tr_data['Quality_label'].apply(lambda x: dict_label2id[x])"
   ]
  },
  {
   "cell_type": "code",
   "execution_count": 14,
   "metadata": {},
   "outputs": [],
   "source": [
    "tr_fea_names = list(tr_data.columns)\n",
    "te_fea_names = list(tr_fea_names[:10])"
   ]
  },
  {
   "cell_type": "code",
   "execution_count": 15,
   "metadata": {},
   "outputs": [],
   "source": [
    "tr_data['Group'] = te_data['Group'].values"
   ]
  },
  {
   "cell_type": "markdown",
   "metadata": {},
   "source": [
    "# add new column"
   ]
  },
  {
   "cell_type": "code",
   "execution_count": 76,
   "metadata": {},
   "outputs": [
    {
     "data": {
      "text/plain": [
       "[]"
      ]
     },
     "execution_count": 76,
     "metadata": {},
     "output_type": "execute_result"
    }
   ],
   "source": []
  },
  {
   "cell_type": "code",
   "execution_count": 25,
   "metadata": {},
   "outputs": [
    {
     "name": "stderr",
     "output_type": "stream",
     "text": [
      "/home/betago/anaconda3/lib/python3.6/site-packages/sklearn/model_selection/_split.py:605: Warning: The least populated class in y has only 1 members, which is too few. The minimum number of members in any class cannot be less than n_splits=5.\n",
      "  % (min_groups, self.n_splits)), Warning)\n"
     ]
    },
    {
     "name": "stdout",
     "output_type": "stream",
     "text": [
      "[100]\tcv_agg's l1: 7.42055 + 0.313722\n",
      "[200]\tcv_agg's l1: 6.95594 + 0.281447\n",
      "[300]\tcv_agg's l1: 6.83576 + 0.26237\n",
      "[400]\tcv_agg's l1: 6.79542 + 0.254375\n",
      "[500]\tcv_agg's l1: 6.77977 + 0.251074\n",
      "[600]\tcv_agg's l1: 6.77354 + 0.249073\n",
      "[700]\tcv_agg's l1: 6.76901 + 0.245924\n",
      "[800]\tcv_agg's l1: 6.76549 + 0.245717\n",
      "[900]\tcv_agg's l1: 6.76258 + 0.245153\n",
      "[100]\tcv_agg's l1: 6.76492 + 0.287286\n",
      "[200]\tcv_agg's l1: 6.17564 + 0.221813\n",
      "[300]\tcv_agg's l1: 6.03581 + 0.190461\n",
      "[400]\tcv_agg's l1: 5.99512 + 0.180067\n",
      "[500]\tcv_agg's l1: 5.9841 + 0.177222\n",
      "[600]\tcv_agg's l1: 5.98116 + 0.173706\n",
      "[700]\tcv_agg's l1: 5.98105 + 0.169186\n",
      "[100]\tcv_agg's l1: 7.26496 + 0.307525\n",
      "[200]\tcv_agg's l1: 6.70191 + 0.29158\n",
      "[300]\tcv_agg's l1: 6.5987 + 0.282531\n",
      "[400]\tcv_agg's l1: 6.57858 + 0.28175\n",
      "[500]\tcv_agg's l1: 6.57256 + 0.280533\n",
      "[600]\tcv_agg's l1: 6.57211 + 0.279402\n",
      "[100]\tcv_agg's l1: 8.99489 + 0.348143\n",
      "[200]\tcv_agg's l1: 8.90928 + 0.3206\n",
      "[300]\tcv_agg's l1: 8.88435 + 0.31112\n",
      "[400]\tcv_agg's l1: 8.88374 + 0.309253\n",
      "[100]\tcv_agg's l1: 8.91291 + 0.486579\n",
      "[200]\tcv_agg's l1: 8.82426 + 0.472717\n",
      "[300]\tcv_agg's l1: 8.80136 + 0.463397\n",
      "[400]\tcv_agg's l1: 8.7944 + 0.465878\n",
      "[500]\tcv_agg's l1: 8.79297 + 0.463767\n",
      "[600]\tcv_agg's l1: 8.79424 + 0.461399\n",
      "[100]\tcv_agg's l1: 8.83087 + 0.359948\n",
      "[200]\tcv_agg's l1: 8.73276 + 0.333591\n",
      "[300]\tcv_agg's l1: 8.71152 + 0.31391\n",
      "[400]\tcv_agg's l1: 8.71446 + 0.307776\n",
      "[100]\tcv_agg's l1: 8.81931 + 0.39515\n",
      "[200]\tcv_agg's l1: 8.73567 + 0.378427\n",
      "[300]\tcv_agg's l1: 8.71028 + 0.370229\n",
      "[400]\tcv_agg's l1: 8.71339 + 0.372724\n"
     ]
    }
   ],
   "source": [
    "tr_new_col = []\n",
    "te_new_col = []\n",
    "for i in range(4,11):\n",
    "    config = {\n",
    "        'df_train' : tr_data,\n",
    "        'base_feature' : te_fea_names,\n",
    "        'id_name' : 'id',\n",
    "        'label_name' : 'Attribute' + str(i)\n",
    "    }\n",
    "    tmp_model = Mylgb_regression(config)\n",
    "    tmp_model.train()\n",
    "    tr_new_col.append(tmp_model.model.predict(tr_data[te_fea_names]))\n",
    "    te_new_col.append(tmp_model.model.predict(te_data[te_fea_names]))"
   ]
  },
  {
   "cell_type": "code",
   "execution_count": 28,
   "metadata": {},
   "outputs": [
    {
     "data": {
      "text/plain": [
       "7"
      ]
     },
     "execution_count": 28,
     "metadata": {},
     "output_type": "execute_result"
    }
   ],
   "source": [
    "len(tr_new_col)"
   ]
  },
  {
   "cell_type": "code",
   "execution_count": 29,
   "metadata": {},
   "outputs": [],
   "source": [
    "for i in range(7):\n",
    "    tr_data['new_f' + str(i)] = tr_new_col[i]\n",
    "    te_data['new_f' + str(i)] = te_new_col[i]"
   ]
  },
  {
   "cell_type": "code",
   "execution_count": 31,
   "metadata": {},
   "outputs": [],
   "source": [
    "new_fename = ['new_f' + str(i) for i in range(7)]"
   ]
  },
  {
   "cell_type": "code",
   "execution_count": null,
   "metadata": {
    "scrolled": false
   },
   "outputs": [],
   "source": []
  },
  {
   "cell_type": "code",
   "execution_count": null,
   "metadata": {},
   "outputs": [],
   "source": []
  },
  {
   "cell_type": "code",
   "execution_count": null,
   "metadata": {},
   "outputs": [],
   "source": []
  },
  {
   "cell_type": "code",
   "execution_count": null,
   "metadata": {},
   "outputs": [],
   "source": []
  },
  {
   "cell_type": "code",
   "execution_count": null,
   "metadata": {},
   "outputs": [],
   "source": []
  },
  {
   "cell_type": "code",
   "execution_count": null,
   "metadata": {},
   "outputs": [],
   "source": []
  },
  {
   "cell_type": "code",
   "execution_count": null,
   "metadata": {},
   "outputs": [],
   "source": []
  },
  {
   "cell_type": "code",
   "execution_count": null,
   "metadata": {},
   "outputs": [],
   "source": []
  },
  {
   "cell_type": "markdown",
   "metadata": {},
   "source": [
    "# predict"
   ]
  },
  {
   "cell_type": "code",
   "execution_count": 36,
   "metadata": {},
   "outputs": [],
   "source": [
    "config = {\n",
    "    'df_train' : tr_data,\n",
    "    'base_feature' : new_fename,\n",
    "    'id_name' : 'id',\n",
    "    'label_name' : 'Quality_label'\n",
    "}"
   ]
  },
  {
   "cell_type": "code",
   "execution_count": 37,
   "metadata": {},
   "outputs": [],
   "source": [
    "lgb_model_1 = Mylgb(config)"
   ]
  },
  {
   "cell_type": "code",
   "execution_count": 38,
   "metadata": {},
   "outputs": [
    {
     "name": "stdout",
     "output_type": "stream",
     "text": [
      "[100]\tcv_agg's multi_logloss: 1.09862 + 0.00958445\n",
      "[200]\tcv_agg's multi_logloss: 1.02288 + 0.0143345\n",
      "[300]\tcv_agg's multi_logloss: 1.00214 + 0.0178668\n",
      "[400]\tcv_agg's multi_logloss: 0.998825 + 0.0201715\n"
     ]
    },
    {
     "data": {
      "text/plain": [
       "0.9987652086620574"
      ]
     },
     "execution_count": 38,
     "metadata": {},
     "output_type": "execute_result"
    }
   ],
   "source": [
    "lgb_model_1.train()"
   ]
  },
  {
   "cell_type": "code",
   "execution_count": null,
   "metadata": {},
   "outputs": [],
   "source": []
  },
  {
   "cell_type": "code",
   "execution_count": null,
   "metadata": {},
   "outputs": [],
   "source": []
  },
  {
   "cell_type": "code",
   "execution_count": null,
   "metadata": {},
   "outputs": [],
   "source": []
  },
  {
   "cell_type": "code",
   "execution_count": 39,
   "metadata": {},
   "outputs": [],
   "source": [
    "tr_pred_prob = lgb_model_1.model.predict(tr_data[new_fename])"
   ]
  },
  {
   "cell_type": "code",
   "execution_count": 40,
   "metadata": {},
   "outputs": [],
   "source": [
    "tr_pred = np.argmax(tr_pred_prob, 1)"
   ]
  },
  {
   "cell_type": "code",
   "execution_count": 41,
   "metadata": {},
   "outputs": [],
   "source": [
    "tr_group = tr_data['Group'].values"
   ]
  },
  {
   "cell_type": "code",
   "execution_count": 42,
   "metadata": {},
   "outputs": [],
   "source": [
    "tr_label = tr_data['Quality_label'].values"
   ]
  },
  {
   "cell_type": "code",
   "execution_count": 43,
   "metadata": {},
   "outputs": [
    {
     "data": {
      "text/plain": [
       "array([2, 3, 3, ..., 2, 2, 2])"
      ]
     },
     "execution_count": 43,
     "metadata": {},
     "output_type": "execute_result"
    }
   ],
   "source": [
    "tr_label"
   ]
  },
  {
   "cell_type": "code",
   "execution_count": 44,
   "metadata": {
    "scrolled": true
   },
   "outputs": [],
   "source": [
    "need_pred_true = []\n",
    "my_pred_prob = []\n",
    "my_pred_notprob = []\n",
    "for i in range(120):\n",
    "    need_pred_true.append(get_partition(tr_label[tr_group == i]))\n",
    "    my_pred_prob.append(np.sum(tr_pred_prob[tr_group == i], axis=0))\n",
    "    my_pred_notprob.append(get_partition(tr_pred[tr_group == i]))"
   ]
  },
  {
   "cell_type": "code",
   "execution_count": 45,
   "metadata": {},
   "outputs": [],
   "source": [
    "need_pred_true = np.array(need_pred_true)"
   ]
  },
  {
   "cell_type": "code",
   "execution_count": 46,
   "metadata": {},
   "outputs": [],
   "source": [
    "my_pred_notprob = np.array(my_pred_notprob)"
   ]
  },
  {
   "cell_type": "code",
   "execution_count": 47,
   "metadata": {},
   "outputs": [],
   "source": [
    "my_pred_prob = np.array([i / sum(i) for i in my_pred_prob])"
   ]
  },
  {
   "cell_type": "code",
   "execution_count": 48,
   "metadata": {},
   "outputs": [
    {
     "data": {
      "text/plain": [
       "0.5899705014749261"
      ]
     },
     "execution_count": 48,
     "metadata": {},
     "output_type": "execute_result"
    }
   ],
   "source": [
    "get_score(MAE(need_pred_true, my_pred_notprob))"
   ]
  },
  {
   "cell_type": "code",
   "execution_count": 49,
   "metadata": {},
   "outputs": [
    {
     "data": {
      "text/plain": [
       "0.7441137367103127"
      ]
     },
     "execution_count": 49,
     "metadata": {},
     "output_type": "execute_result"
    }
   ],
   "source": [
    "get_score(MAE(need_pred_true, my_pred_prob))"
   ]
  },
  {
   "cell_type": "code",
   "execution_count": null,
   "metadata": {},
   "outputs": [],
   "source": []
  },
  {
   "cell_type": "code",
   "execution_count": null,
   "metadata": {},
   "outputs": [],
   "source": []
  },
  {
   "cell_type": "code",
   "execution_count": 94,
   "metadata": {},
   "outputs": [],
   "source": [
    "tr_pred_part = get_partition(tr_pred[50:100])"
   ]
  },
  {
   "cell_type": "code",
   "execution_count": 95,
   "metadata": {},
   "outputs": [],
   "source": [
    "tr_true_part = get_partition(tr_data['Quality_label'].values[50:100])"
   ]
  },
  {
   "cell_type": "code",
   "execution_count": 96,
   "metadata": {},
   "outputs": [
    {
     "data": {
      "text/plain": [
       "array([0.24, 0.24, 0.4 , 0.12])"
      ]
     },
     "execution_count": 96,
     "metadata": {},
     "output_type": "execute_result"
    }
   ],
   "source": [
    "tr_true_part"
   ]
  },
  {
   "cell_type": "code",
   "execution_count": 97,
   "metadata": {},
   "outputs": [
    {
     "data": {
      "text/plain": [
       "array([0.08, 0.08, 0.78, 0.06])"
      ]
     },
     "execution_count": 97,
     "metadata": {},
     "output_type": "execute_result"
    }
   ],
   "source": [
    "tr_pred_part"
   ]
  },
  {
   "cell_type": "code",
   "execution_count": 98,
   "metadata": {},
   "outputs": [
    {
     "data": {
      "text/plain": [
       "0.3448275862068966"
      ]
     },
     "execution_count": 98,
     "metadata": {},
     "output_type": "execute_result"
    }
   ],
   "source": [
    "get_score(MAE(tr_pred_part, tr_true_part))"
   ]
  },
  {
   "cell_type": "code",
   "execution_count": 101,
   "metadata": {},
   "outputs": [
    {
     "data": {
      "text/plain": [
       "0.618786182008356"
      ]
     },
     "execution_count": 101,
     "metadata": {},
     "output_type": "execute_result"
    }
   ],
   "source": [
    "get_score(MAE(tr_pred_part_new, tr_true_part))"
   ]
  },
  {
   "cell_type": "code",
   "execution_count": 99,
   "metadata": {},
   "outputs": [],
   "source": [
    "tr_pred_part_new = np.sum(tr_pred_prob[50:100], 0) / sum(np.sum(tr_pred_prob[50:100], 0))"
   ]
  },
  {
   "cell_type": "code",
   "execution_count": 100,
   "metadata": {},
   "outputs": [
    {
     "data": {
      "text/plain": [
       "array([0.16580873, 0.19230192, 0.52321342, 0.11867593])"
      ]
     },
     "execution_count": 100,
     "metadata": {},
     "output_type": "execute_result"
    }
   ],
   "source": [
    "tr_pred_part_new"
   ]
  },
  {
   "cell_type": "code",
   "execution_count": null,
   "metadata": {},
   "outputs": [],
   "source": []
  },
  {
   "cell_type": "markdown",
   "metadata": {},
   "source": [
    "# submit"
   ]
  },
  {
   "cell_type": "code",
   "execution_count": 50,
   "metadata": {},
   "outputs": [],
   "source": [
    "submit_pd = pd.read_csv('./rawdata/submit_example.csv', encoding='utf-8', index_col=None)"
   ]
  },
  {
   "cell_type": "code",
   "execution_count": 51,
   "metadata": {},
   "outputs": [],
   "source": [
    "te_pred_prob = lgb_model_1.model.predict(te_data[new_fename])"
   ]
  },
  {
   "cell_type": "code",
   "execution_count": 53,
   "metadata": {},
   "outputs": [
    {
     "data": {
      "text/plain": [
       "array([[0.49027116, 0.18413939, 0.28126662, 0.04432283],\n",
       "       [0.0570145 , 0.35247445, 0.13977326, 0.45073778],\n",
       "       [0.05099459, 0.44129674, 0.1177373 , 0.38997136],\n",
       "       ...,\n",
       "       [0.4652235 , 0.30822709, 0.1902598 , 0.03628961],\n",
       "       [0.10817755, 0.58356138, 0.1767927 , 0.13146837],\n",
       "       [0.50975179, 0.24745654, 0.19610309, 0.04668858]])"
      ]
     },
     "execution_count": 53,
     "metadata": {},
     "output_type": "execute_result"
    }
   ],
   "source": [
    "te_pred_prob"
   ]
  },
  {
   "cell_type": "code",
   "execution_count": 73,
   "metadata": {},
   "outputs": [],
   "source": [
    "te_pred = np.argmax(te_pred_prob, 1)"
   ]
  },
  {
   "cell_type": "code",
   "execution_count": 74,
   "metadata": {},
   "outputs": [
    {
     "data": {
      "text/plain": [
       "array([0, 3, 3, ..., 2, 1, 1])"
      ]
     },
     "execution_count": 74,
     "metadata": {},
     "output_type": "execute_result"
    }
   ],
   "source": [
    "te_pred"
   ]
  },
  {
   "cell_type": "code",
   "execution_count": 102,
   "metadata": {},
   "outputs": [
    {
     "data": {
      "text/plain": [
       "array([[0.51108102, 0.24781982, 0.17547253, 0.06562663],\n",
       "       [0.05445464, 0.25160678, 0.17330528, 0.52063331],\n",
       "       [0.07212852, 0.22876436, 0.19888323, 0.50022388],\n",
       "       ...,\n",
       "       [0.2562444 , 0.29993487, 0.4035007 , 0.04032003],\n",
       "       [0.11724435, 0.50114796, 0.09168262, 0.28992507],\n",
       "       [0.28683289, 0.42900776, 0.20224147, 0.08191787]])"
      ]
     },
     "execution_count": 102,
     "metadata": {},
     "output_type": "execute_result"
    }
   ],
   "source": [
    "te_pred_prob"
   ]
  },
  {
   "cell_type": "code",
   "execution_count": 54,
   "metadata": {},
   "outputs": [],
   "source": [
    "group_value = te_data['Group'].values"
   ]
  },
  {
   "cell_type": "code",
   "execution_count": 55,
   "metadata": {},
   "outputs": [],
   "source": [
    "final_result = []\n",
    "for i in range(120):\n",
    "    final_result.append(np.sum(te_pred_prob[group_value == i], axis = 0))"
   ]
  },
  {
   "cell_type": "code",
   "execution_count": 56,
   "metadata": {},
   "outputs": [],
   "source": [
    "final_result = [i / sum(i) for i in final_result]"
   ]
  },
  {
   "cell_type": "code",
   "execution_count": 57,
   "metadata": {},
   "outputs": [],
   "source": [
    "final_result = np.array(final_result)"
   ]
  },
  {
   "cell_type": "code",
   "execution_count": 58,
   "metadata": {},
   "outputs": [],
   "source": [
    "submit_pd[['Excellent ratio', 'Good ratio', 'Pass ratio', 'Fail ratio']] = final_result"
   ]
  },
  {
   "cell_type": "code",
   "execution_count": 59,
   "metadata": {},
   "outputs": [],
   "source": [
    "submit_pd.to_csv('lgb_pred_attribute.csv', index=None)"
   ]
  },
  {
   "cell_type": "code",
   "execution_count": null,
   "metadata": {},
   "outputs": [],
   "source": []
  },
  {
   "cell_type": "code",
   "execution_count": 114,
   "metadata": {},
   "outputs": [
    {
     "name": "stdout",
     "output_type": "stream",
     "text": [
      "     column  importance\n",
      "6  Column_6        2180\n",
      "7  Column_7        2916\n",
      "8  Column_8        3160\n",
      "5  Column_5        5910\n",
      "4  Column_4        7700\n",
      "1  Column_1        8851\n",
      "2  Column_2        9084\n",
      "0  Column_0        9148\n",
      "3  Column_3        9620\n",
      "9  Column_9       10227\n"
     ]
    }
   ],
   "source": [
    "print(pd.DataFrame({\n",
    "        'column': lgb_model_1.model.feature_name(),\n",
    "        'importance': lgb_model_1.model.feature_importance(),\n",
    "    }).sort_values(by='importance'))"
   ]
  },
  {
   "cell_type": "code",
   "execution_count": 115,
   "metadata": {},
   "outputs": [
    {
     "name": "stdout",
     "output_type": "stream",
     "text": [
      "     column  importance\n",
      "0  Column_0        4408\n",
      "1  Column_1        4688\n",
      "2  Column_2        4937\n",
      "4  Column_4       14559\n",
      "3  Column_3       15359\n",
      "7  Column_7       17195\n",
      "9  Column_9       18278\n",
      "5  Column_5       20620\n",
      "8  Column_8       21853\n",
      "6  Column_6       23821\n"
     ]
    }
   ],
   "source": [
    "print(pd.DataFrame({\n",
    "        'column': lgb_model_2.model.feature_name(),\n",
    "        'importance': lgb_model_2.model.feature_importance(),\n",
    "    }).sort_values(by='importance'))"
   ]
  },
  {
   "cell_type": "code",
   "execution_count": null,
   "metadata": {},
   "outputs": [],
   "source": []
  },
  {
   "cell_type": "code",
   "execution_count": null,
   "metadata": {},
   "outputs": [],
   "source": []
  },
  {
   "cell_type": "code",
   "execution_count": null,
   "metadata": {},
   "outputs": [],
   "source": []
  },
  {
   "cell_type": "code",
   "execution_count": null,
   "metadata": {},
   "outputs": [],
   "source": []
  }
 ],
 "metadata": {
  "kernelspec": {
   "display_name": "Python 3",
   "language": "python",
   "name": "python3"
  },
  "language_info": {
   "codemirror_mode": {
    "name": "ipython",
    "version": 3
   },
   "file_extension": ".py",
   "mimetype": "text/x-python",
   "name": "python",
   "nbconvert_exporter": "python",
   "pygments_lexer": "ipython3",
   "version": "3.6.5"
  }
 },
 "nbformat": 4,
 "nbformat_minor": 2
}
